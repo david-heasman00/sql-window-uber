{
 "cells": [
  {
   "cell_type": "markdown",
   "id": "d48b024a",
   "metadata": {},
   "source": [
    "# Using SQL Window Functions on an SQL Interview Question\n",
    "\n",
    "*This SQL problem is a medium difficulty SQL interview problem on [datalemur.com](https://datalemur.com/questions/sql-third-transaction) for Uber that requires the use of ranking data with window functions to solve it.* \n",
    "\n",
    "*I'd heard about window functions, but had never needed to use it in a commercial setting. I went through a tutorial of SQL window functions over at [mode.com](https://mode.com/sql-tutorial/sql-window-functions), and then solved the problem.* \n",
    "\n",
    "*Not only does this demonstrate I know how to use window functions (and the fact they're pretty cool), but that I know how to learn something new to solve a problem. It only took me 2 hours to upskill and figure this out.* \n",
    "\n",
    "*A bit of house-keeping. This is an SQL problem. So to carry out the SQL problems in Jupyter, I made use of the `%sql` magic command with jupysql.* \n",
    "\n",
    "*Alright, enough pre-amble. Onto the queries!*"
   ]
  },
  {
   "cell_type": "markdown",
   "id": "3d53e808",
   "metadata": {},
   "source": [
    "## The Problem\n",
    "*Copied and pasted from datalemur.com*\n",
    "\n",
    "This is the same question as problem #11 in the SQL Chapter of [Ace the Data Science Interview](https://amzn.to/3kF79Fx)!\n",
    "\n",
    "Assume you are given the table below on Uber transactions made by users. Write a query to obtain the third transaction of every user. Output the user id, spend and transaction date.\n",
    "\n",
    "### `transactions` Table:\n",
    "\n",
    "|**Column Name**|**Type**|\n",
    "|---|---|\n",
    "|user_id|integer|\n",
    "|spend|decimal|\n",
    "|transaction_date|timestamp|\n",
    "\n",
    "### `transactions` Example Input:\n",
    "\n",
    "|**user_id**|**spend**|**transaction_date**|\n",
    "|---|---|---|\n",
    "|111|100.50|01/08/2022 12:00:00|\n",
    "|111|55.00|01/10/2022 12:00:00|\n",
    "|121|36.00|01/18/2022 12:00:00|\n",
    "|145|24.99|01/26/2022 12:00:00|\n",
    "|111|89.60|02/05/2022 12:00:00|\n",
    "\n",
    "### Example Output:\n",
    "\n",
    "|**user_id**|**spend**|**transaction_date**|\n",
    "|---|---|---|\n",
    "|111|89.60|02/05/2022 12:00:00|\n",
    "\n",
    "The dataset you are querying against may have different input & output - **this is just an example**!"
   ]
  },
  {
   "cell_type": "markdown",
   "id": "3acf4e09",
   "metadata": {},
   "source": [
    "## Loading the data"
   ]
  },
  {
   "cell_type": "code",
   "execution_count": 1,
   "id": "346e6d9f",
   "metadata": {},
   "outputs": [],
   "source": [
    "#Load the SQL kernel\n",
    "%load_ext sql"
   ]
  },
  {
   "cell_type": "code",
   "execution_count": 2,
   "id": "567b8531",
   "metadata": {},
   "outputs": [
    {
     "data": {
      "text/html": [
       "<span style=\"None\">Connecting to &#x27;sqlite:///transactions.db&#x27;</span>"
      ],
      "text/plain": [
       "Connecting to 'sqlite:///transactions.db'"
      ]
     },
     "metadata": {},
     "output_type": "display_data"
    }
   ],
   "source": [
    "#Connect to database\n",
    "%sql sqlite:///transactions.db"
   ]
  },
  {
   "cell_type": "code",
   "execution_count": 3,
   "id": "496d4614",
   "metadata": {},
   "outputs": [
    {
     "data": {
      "text/html": [
       "<span style=\"None\">Running query in &#x27;sqlite:///transactions.db&#x27;</span>"
      ],
      "text/plain": [
       "Running query in 'sqlite:///transactions.db'"
      ]
     },
     "metadata": {},
     "output_type": "display_data"
    },
    {
     "data": {
      "text/html": [
       "<table>\n",
       "    <thead>\n",
       "        <tr>\n",
       "            <th>user_id</th>\n",
       "            <th>spend</th>\n",
       "            <th>transaction_date</th>\n",
       "        </tr>\n",
       "    </thead>\n",
       "    <tbody>\n",
       "        <tr>\n",
       "            <td>111</td>\n",
       "            <td>100.5</td>\n",
       "            <td>01/08/2022 12:00</td>\n",
       "        </tr>\n",
       "        <tr>\n",
       "            <td>111</td>\n",
       "            <td>55</td>\n",
       "            <td>01/10/2022 12:00</td>\n",
       "        </tr>\n",
       "        <tr>\n",
       "            <td>121</td>\n",
       "            <td>36</td>\n",
       "            <td>01/18/2022 12:00:00</td>\n",
       "        </tr>\n",
       "        <tr>\n",
       "            <td>145</td>\n",
       "            <td>24.99</td>\n",
       "            <td>01/26/2022 12:00:00</td>\n",
       "        </tr>\n",
       "        <tr>\n",
       "            <td>111</td>\n",
       "            <td>89.6</td>\n",
       "            <td>02/05/2022 12:00</td>\n",
       "        </tr>\n",
       "        <tr>\n",
       "            <td>145</td>\n",
       "            <td>45.3</td>\n",
       "            <td>02/28/2022 12:00:00</td>\n",
       "        </tr>\n",
       "        <tr>\n",
       "            <td>121</td>\n",
       "            <td>22.2</td>\n",
       "            <td>04/01/2022 12:00</td>\n",
       "        </tr>\n",
       "        <tr>\n",
       "            <td>121</td>\n",
       "            <td>67.9</td>\n",
       "            <td>04/03/2022 12:00</td>\n",
       "        </tr>\n",
       "        <tr>\n",
       "            <td>263</td>\n",
       "            <td>156</td>\n",
       "            <td>04/11/2022 12:00</td>\n",
       "        </tr>\n",
       "        <tr>\n",
       "            <td>230</td>\n",
       "            <td>78.3</td>\n",
       "            <td>06/14/2022 12:00:00</td>\n",
       "        </tr>\n",
       "    </tbody>\n",
       "</table>\n",
       "<span style=\"font-style:italic;text-align:center;\">Truncated to <a href=\"https://jupysql.ploomber.io/en/latest/api/configuration.html#displaylimit\">displaylimit</a> of 10.</span>"
      ],
      "text/plain": [
       "+---------+-------+---------------------+\n",
       "| user_id | spend |   transaction_date  |\n",
       "+---------+-------+---------------------+\n",
       "|   111   | 100.5 |   01/08/2022 12:00  |\n",
       "|   111   |   55  |   01/10/2022 12:00  |\n",
       "|   121   |   36  | 01/18/2022 12:00:00 |\n",
       "|   145   | 24.99 | 01/26/2022 12:00:00 |\n",
       "|   111   |  89.6 |   02/05/2022 12:00  |\n",
       "|   145   |  45.3 | 02/28/2022 12:00:00 |\n",
       "|   121   |  22.2 |   04/01/2022 12:00  |\n",
       "|   121   |  67.9 |   04/03/2022 12:00  |\n",
       "|   263   |  156  |   04/11/2022 12:00  |\n",
       "|   230   |  78.3 | 06/14/2022 12:00:00 |\n",
       "+---------+-------+---------------------+\n",
       "Truncated to displaylimit of 10."
      ]
     },
     "execution_count": 3,
     "metadata": {},
     "output_type": "execute_result"
    }
   ],
   "source": [
    "%%sql\n",
    "--Inspect the data\n",
    "SELECT * \n",
    "FROM transactions;"
   ]
  },
  {
   "cell_type": "markdown",
   "id": "12a1e283",
   "metadata": {},
   "source": [
    "## Solution "
   ]
  },
  {
   "cell_type": "code",
   "execution_count": 4,
   "id": "71b1de3b",
   "metadata": {},
   "outputs": [
    {
     "data": {
      "text/html": [
       "<span style=\"None\">Running query in &#x27;sqlite:///transactions.db&#x27;</span>"
      ],
      "text/plain": [
       "Running query in 'sqlite:///transactions.db'"
      ]
     },
     "metadata": {},
     "output_type": "display_data"
    },
    {
     "data": {
      "text/html": [
       "<table>\n",
       "    <thead>\n",
       "        <tr>\n",
       "            <th>user_id</th>\n",
       "            <th>spend</th>\n",
       "            <th>transaction_date</th>\n",
       "        </tr>\n",
       "    </thead>\n",
       "    <tbody>\n",
       "        <tr>\n",
       "            <td>111</td>\n",
       "            <td>89.6</td>\n",
       "            <td>02/05/2022 12:00</td>\n",
       "        </tr>\n",
       "        <tr>\n",
       "            <td>121</td>\n",
       "            <td>67.9</td>\n",
       "            <td>04/03/2022 12:00</td>\n",
       "        </tr>\n",
       "        <tr>\n",
       "            <td>263</td>\n",
       "            <td>100</td>\n",
       "            <td>07/12/2022 12:00</td>\n",
       "        </tr>\n",
       "    </tbody>\n",
       "</table>"
      ],
      "text/plain": [
       "+---------+-------+------------------+\n",
       "| user_id | spend | transaction_date |\n",
       "+---------+-------+------------------+\n",
       "|   111   |  89.6 | 02/05/2022 12:00 |\n",
       "|   121   |  67.9 | 04/03/2022 12:00 |\n",
       "|   263   |  100  | 07/12/2022 12:00 |\n",
       "+---------+-------+------------------+"
      ]
     },
     "execution_count": 4,
     "metadata": {},
     "output_type": "execute_result"
    }
   ],
   "source": [
    "%%sql\n",
    "SELECT \n",
    "  user_id,\n",
    "  spend,\n",
    "  transaction_date\n",
    "FROM (\n",
    "  SELECT \n",
    "    user_id,\n",
    "    spend, \n",
    "    transaction_date,\n",
    "    RANK() OVER (PARTITION BY user_id ORDER BY transaction_date) AS rank_id\n",
    "  FROM transactions\n",
    ") AS rank_transactions\n",
    "WHERE rank_transactions.rank_id = 3;"
   ]
  },
  {
   "cell_type": "markdown",
   "id": "dc4fb545",
   "metadata": {},
   "source": [
    "---\n",
    "\n",
    "### Explanation of solution\n",
    "\n",
    "We need to see the third transaction of every user, and we only want to see the user_id, the spend, and the transaction date. \n",
    "\n",
    "To get the third transaction of every user, we select the entire dataset, and then we carry out a **window rank** function which ranks the data by the transaction date, and segments it by the user_id. This is the \n",
    "\n",
    "```SQL\n",
    "RANK() OVER (PARTITION BY user_id ORDER BY transaction_date) AS rank_id\n",
    "```\n",
    "\n",
    "part of the code. "
   ]
  },
  {
   "cell_type": "code",
   "execution_count": 5,
   "id": "359da6e4",
   "metadata": {},
   "outputs": [
    {
     "data": {
      "text/html": [
       "<span style=\"None\">Running query in &#x27;sqlite:///transactions.db&#x27;</span>"
      ],
      "text/plain": [
       "Running query in 'sqlite:///transactions.db'"
      ]
     },
     "metadata": {},
     "output_type": "display_data"
    },
    {
     "data": {
      "text/html": [
       "<table>\n",
       "    <thead>\n",
       "        <tr>\n",
       "            <th>user_id</th>\n",
       "            <th>spend</th>\n",
       "            <th>transaction_date</th>\n",
       "            <th>rank_id</th>\n",
       "        </tr>\n",
       "    </thead>\n",
       "    <tbody>\n",
       "        <tr>\n",
       "            <td>None</td>\n",
       "            <td>None</td>\n",
       "            <td>None</td>\n",
       "            <td>1</td>\n",
       "        </tr>\n",
       "        <tr>\n",
       "            <td>None</td>\n",
       "            <td>None</td>\n",
       "            <td>None</td>\n",
       "            <td>1</td>\n",
       "        </tr>\n",
       "        <tr>\n",
       "            <td>111</td>\n",
       "            <td>100.5</td>\n",
       "            <td>01/08/2022 12:00</td>\n",
       "            <td>1</td>\n",
       "        </tr>\n",
       "        <tr>\n",
       "            <td>111</td>\n",
       "            <td>55</td>\n",
       "            <td>01/10/2022 12:00</td>\n",
       "            <td>2</td>\n",
       "        </tr>\n",
       "        <tr>\n",
       "            <td>111</td>\n",
       "            <td>89.6</td>\n",
       "            <td>02/05/2022 12:00</td>\n",
       "            <td>3</td>\n",
       "        </tr>\n",
       "        <tr>\n",
       "            <td>121</td>\n",
       "            <td>36</td>\n",
       "            <td>01/18/2022 12:00:00</td>\n",
       "            <td>1</td>\n",
       "        </tr>\n",
       "        <tr>\n",
       "            <td>121</td>\n",
       "            <td>22.2</td>\n",
       "            <td>04/01/2022 12:00</td>\n",
       "            <td>2</td>\n",
       "        </tr>\n",
       "        <tr>\n",
       "            <td>121</td>\n",
       "            <td>67.9</td>\n",
       "            <td>04/03/2022 12:00</td>\n",
       "            <td>3</td>\n",
       "        </tr>\n",
       "        <tr>\n",
       "            <td>145</td>\n",
       "            <td>24.99</td>\n",
       "            <td>01/26/2022 12:00:00</td>\n",
       "            <td>1</td>\n",
       "        </tr>\n",
       "        <tr>\n",
       "            <td>145</td>\n",
       "            <td>45.3</td>\n",
       "            <td>02/28/2022 12:00:00</td>\n",
       "            <td>2</td>\n",
       "        </tr>\n",
       "    </tbody>\n",
       "</table>\n",
       "<span style=\"font-style:italic;text-align:center;\">Truncated to <a href=\"https://jupysql.ploomber.io/en/latest/api/configuration.html#displaylimit\">displaylimit</a> of 10.</span>"
      ],
      "text/plain": [
       "+---------+-------+---------------------+---------+\n",
       "| user_id | spend |   transaction_date  | rank_id |\n",
       "+---------+-------+---------------------+---------+\n",
       "|   None  |  None |         None        |    1    |\n",
       "|   None  |  None |         None        |    1    |\n",
       "|   111   | 100.5 |   01/08/2022 12:00  |    1    |\n",
       "|   111   |   55  |   01/10/2022 12:00  |    2    |\n",
       "|   111   |  89.6 |   02/05/2022 12:00  |    3    |\n",
       "|   121   |   36  | 01/18/2022 12:00:00 |    1    |\n",
       "|   121   |  22.2 |   04/01/2022 12:00  |    2    |\n",
       "|   121   |  67.9 |   04/03/2022 12:00  |    3    |\n",
       "|   145   | 24.99 | 01/26/2022 12:00:00 |    1    |\n",
       "|   145   |  45.3 | 02/28/2022 12:00:00 |    2    |\n",
       "+---------+-------+---------------------+---------+\n",
       "Truncated to displaylimit of 10."
      ]
     },
     "execution_count": 5,
     "metadata": {},
     "output_type": "execute_result"
    }
   ],
   "source": [
    "%%sql\n",
    "SELECT \n",
    "  user_id,\n",
    "  spend, \n",
    "  transaction_date,\n",
    "  RANK() OVER (PARTITION BY user_id ORDER BY transaction_date) AS rank_id\n",
    "FROM transactions"
   ]
  },
  {
   "cell_type": "markdown",
   "id": "dc3a7e34",
   "metadata": {},
   "source": [
    "Here we can see the rank for each transaction (in `rank_id`). To suppress the `rank_id` and to choose every third transaction, we wrap the query into a subquery (named as `rank_transactions`), and then we use a `WHERE` command at the end to filter for where `rank_id` is equal to 3. \n",
    "\n",
    "See. Easy. "
   ]
  }
 ],
 "metadata": {
  "kernelspec": {
   "display_name": "Python 3 (ipykernel)",
   "language": "python",
   "name": "python3"
  },
  "language_info": {
   "codemirror_mode": {
    "name": "ipython",
    "version": 3
   },
   "file_extension": ".py",
   "mimetype": "text/x-python",
   "name": "python",
   "nbconvert_exporter": "python",
   "pygments_lexer": "ipython3",
   "version": "3.11.7"
  }
 },
 "nbformat": 4,
 "nbformat_minor": 5
}
